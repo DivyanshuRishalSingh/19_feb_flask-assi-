{
 "cells": [
  {
   "cell_type": "code",
   "execution_count": null,
   "id": "339ebb52-e134-4d96-98dd-251a2f159f15",
   "metadata": {},
   "outputs": [],
   "source": [
    "                                Assignment-19_feb(API-flask)"
   ]
  },
  {
   "cell_type": "code",
   "execution_count": null,
   "id": "1de6382a-d6b1-4402-ba2e-3c8f137bc66a",
   "metadata": {},
   "outputs": [],
   "source": [
    "Q1. What is Flask Framework? What are the advantages of Flask Framework?\n",
    "ans->Flask is what’s known as a WSGI framework. Mercifully pronounced “whiskey,” this stands \n",
    "for Web Server Gateway Interface. Essentially, this is a way for web servers to pass\n",
    "requests to web applications or frameworks. Flask relies on the WSGI external library to function,\n",
    "as well as the Jinja2 template engine.\n",
    "ADVANTAGE-:\n",
    "   1. flexible\n",
    "   2.scaleable\n",
    "   3.lightweight"
   ]
  },
  {
   "cell_type": "code",
   "execution_count": null,
   "id": "5342563c-74ec-4040-9cef-bfd406b011b5",
   "metadata": {},
   "outputs": [],
   "source": [
    "Q2. Create a simple Flask application to display ‘Hello World!!’. Attach the screenshot of the output in\n",
    "Jupyter Notebook.\n",
    "nas->from flask import Flask\n",
    "from flask import request\n",
    "app=Flask(__name__)\n",
    "\n",
    "@app.route('/test8')\n",
    "def test():\n",
    "    data=request.args.get('x')\n",
    "    return \"HELLOW WORLD {}\".format(data)\n",
    "if __name__=='__main__':\n",
    "    app.run(host='0.0.0.0',debug=False,port=5001)"
   ]
  },
  {
   "cell_type": "code",
   "execution_count": null,
   "id": "dffc78f9-66fa-4cfc-a0ab-299bc2d7e248",
   "metadata": {},
   "outputs": [],
   "source": [
    "Q3. What is App routing in Flask? Why do we use app routes?\n",
    "ans->App routing is used to map the specific URL with the associated function \n",
    "that is intended to perform some task.\n",
    "It is used to access some particular page like Flask Tutorial in the web application."
   ]
  },
  {
   "cell_type": "code",
   "execution_count": null,
   "id": "79ba12f0-4bc6-4dd5-9a2b-ef8c1f1ed559",
   "metadata": {},
   "outputs": [],
   "source": [
    "Q4. Create a “/welcome” route to display the welcome message “Welcome to ABC Corporation” and a “/”\n",
    "route to show the following details:\n",
    "Company Name: ABC Corporation\n",
    "Location: India\n",
    "Contact Detail: 999-999-9999\n",
    "\n",
    "\n",
    "ans->\n",
    "from flask import Flask\n",
    "app=Flask(__name__)\n",
    "@app.route('/welcome')\n",
    "def welcome():\n",
    "    return:\"WELCOME TO ABC CORPORATION\"\n",
    "@app.route('/')\n",
    "def details():\n",
    "    return \"<h2>Company Name: ABC Corporation<br>Location: India<br>Contact Detail: 999-999-9999</h2>\"\n",
    "if '__name__'=='__main__':\n",
    "    app.run(host='0.0.0.0') \n",
    "#run on port 5000"
   ]
  },
  {
   "cell_type": "code",
   "execution_count": null,
   "id": "401af377-9772-4fb9-9715-e46db085ab68",
   "metadata": {},
   "outputs": [],
   "source": [
    "\n",
    "ans->The url_for() function is used to build a URL to the specific function dynamically. \n",
    "The first argument is the name of the specified function, and then we can pass any\n",
    "number of keyword argument corresponding to the variable part of the URL.\n",
    "\n",
    "This function is useful in the sense that we can avoid hard-coding the URLs into the templates \n",
    "by dynamically building them using this function.\n",
    "\n",
    "eg-:\n",
    "    "
   ]
  }
 ],
 "metadata": {
  "kernelspec": {
   "display_name": "Python 3 (ipykernel)",
   "language": "python",
   "name": "python3"
  },
  "language_info": {
   "codemirror_mode": {
    "name": "ipython",
    "version": 3
   },
   "file_extension": ".py",
   "mimetype": "text/x-python",
   "name": "python",
   "nbconvert_exporter": "python",
   "pygments_lexer": "ipython3",
   "version": "3.10.8"
  }
 },
 "nbformat": 4,
 "nbformat_minor": 5
}
